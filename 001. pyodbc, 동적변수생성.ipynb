{
 "cells": [
  {
   "cell_type": "markdown",
   "metadata": {},
   "source": [
    "# pyodbc를 이용하여 hive에 연결"
   ]
  },
  {
   "cell_type": "markdown",
   "metadata": {},
   "source": [
    "---\n",
    "##### ODBC(Open DataBase Connectivity)\n",
    "어떤 DBMS를 사용하는지 관계없이 DBMS 간 호환될 수 있도록 MS에서 만든 표준<br>\n",
    "\n",
    "##### API\n",
    "프로그램들이 서로 상호작용하는 것을 도와주는 매개체<br>\n",
    "__특징1.__ 서버와 DB에 대한 출입구 역할 → 허용된 사용자에게만 접근성 부여<br>\n",
    "__특징2.__ 어플리케이션과 기기가 데이터를 원활히 주고받을 수 있도록 돕는 역할<br>\n",
    "__특징3.__ 모든 접속을 표준화 → 기계/운영체제 등과 상관 없이 동일한 엑세스를 가능하게 함. 범용 플러그처럼 작동.<br>\n",
    "\n",
    "##### DSN(Data Source Name)\n",
    "DB를 사용하는 어플리케이션에서 DB를 불러올 때 해당 DB를 연결시키기 위해 구분 짓는 이름"
   ]
  },
  {
   "cell_type": "code",
   "execution_count": null,
   "metadata": {},
   "outputs": [],
   "source": [
    "# 참고로 DSN = <연결할DSN> 이런식으로 띄어쓰면 실행 오류 발생\n",
    "conn = pyodbc.connect(\"DSN=<연결할DSN>\", autocommit = True)\n",
    "\n",
    "sql = \"\"\"\n",
    "select *\n",
    "from tmp.tmp_test\n",
    "\"\"\"\n",
    "\n",
    "df = pd.read_sql(sql, conn)\n",
    "df.head()"
   ]
  },
  {
   "cell_type": "markdown",
   "metadata": {},
   "source": [
    "___\n",
    "# python - hive 연결 시 sql 쿼리 문 안에 변수 넣기"
   ]
  },
  {
   "cell_type": "code",
   "execution_count": null,
   "metadata": {},
   "outputs": [],
   "source": [
    "import pyodbc\n",
    "import pandas as pd\n",
    "\n",
    "start = 0\n",
    "end = 50\n",
    "\n",
    "conn = pyodbc.connect(\"DSN=CloudHI\", autocommit = True)\n",
    "\n",
    "sql = \"\"\"\n",
    "select *\n",
    "from tmp.tmp_test\n",
    "\"\"\"\n",
    "# 변하지 않는 부분은 주석처리로 처리하고, 변수로 변동하는 부분만 설정한 변수 넣어주기\n",
    "sql = sql + \"\"\"where rnum > \"\"\" + a + \"\"\" and rnum <= \"\"\" + b\n",
    "df = pd.read_sql(sql, conn)\n",
    "df.head()"
   ]
  },
  {
   "cell_type": "markdown",
   "metadata": {},
   "source": [
    "___\n",
    "# 동적으로 데이터 프레임 생성하며 데이터 넣기"
   ]
  },
  {
   "cell_type": "markdown",
   "metadata": {},
   "source": [
    "format과 globals 사용<br>\n",
    "[참고] https://datata29.github.io/data/2021/03/11/datapre1/"
   ]
  },
  {
   "cell_type": "code",
   "execution_count": null,
   "metadata": {},
   "outputs": [],
   "source": [
    "import pyodbc\n",
    "import pandas as pd\n",
    "\n",
    "start = [\"\"\"0\"\"\", \"\"\"10\"\"\",\"\"\"20\"\"\"]\n",
    "end = [ \"\"\"10\"\"\",\"\"\"20\"\"\",\"\"\"30\"\"\"]\n",
    "i = 1\n",
    "\n",
    "conn = pyodbc.connect(\"DSN=<연결할DSN>\", autocommit = True)\n",
    "\n",
    "for a,b in zip(start, end) :\n",
    "    sql = \"\"\"\n",
    "    select *\n",
    "    from tmp.tmp_test\n",
    "    \"\"\"\n",
    "    sql = sql + \"\"\"where rnum > \"\"\" + a + \"\"\" and rnum <= \"\"\" + b\n",
    "    globals()['df_{}'.format(i)] = pd.read_sql(sql, conn)\n",
    "    i = i + 1"
   ]
  },
  {
   "cell_type": "markdown",
   "metadata": {},
   "source": [
    "##### 문자열 이어붙여서 사용하기(문자열 포맷팅 이용x 방법)"
   ]
  },
  {
   "cell_type": "code",
   "execution_count": null,
   "metadata": {},
   "outputs": [],
   "source": [
    "conn = pyodbc.connect(\"DSN=CloudHI\", autocommit = True)\n",
    "\n",
    "sql = \"\"\"\n",
    "select *\n",
    "from tmp.tmp_test\n",
    "\"\"\"\n",
    "\n",
    "for i in tqdm(range(2)) :\n",
    "    # set start row number and end row number\n",
    "    # these variable should be 'str' type, not 'int' or sth else\n",
    "    start = str(i*10)\n",
    "    end = str((i+1) * 10)\n",
    "    # add start and end set to base sentence\n",
    "    sql2 = sql + \"\"\"where rnum > \"\"\" + start + \"\"\" and rnum <= \"\"\" + end\n",
    "    # use 'globals()' func, then you can set df name dynamically\n",
    "    globals()['test_{}'.format(i+1)] = pd.read_sql(sql2, conn)"
   ]
  },
  {
   "cell_type": "markdown",
   "metadata": {},
   "source": [
    "##### 문자열 포맷팅을 이용하는 방법"
   ]
  },
  {
   "cell_type": "code",
   "execution_count": null,
   "metadata": {},
   "outputs": [],
   "source": [
    "conn = pyodbc.connect(\"DSN=CloudHI\", autocommit = True)\n",
    "\n",
    "for i in tqdm(range(2)) :\n",
    "    start = i*10\n",
    "    end = (i+1) * 10\n",
    "    sql = f\"\"\"select * from tmp.tmp_aws_itm_ord_2112 where rnum > {start} and rnum <= {end}\"\"\"\n",
    "    globals()['test_{}'.format(i+1)] = pd.read_sql(sql, conn)"
   ]
  },
  {
   "cell_type": "markdown",
   "metadata": {},
   "source": [
    "하지만 동적변수는 디버깅에 어려움이 있다는 글을 보게 되었고 이보다는 리스트 안에 넣는 것을 추천한다고 하신 글을 참고하여 아래 코드 생성"
   ]
  },
  {
   "cell_type": "code",
   "execution_count": null,
   "metadata": {},
   "outputs": [],
   "source": [
    "conn = pyodbc.connect(\"DSN=CloudHI\", autocommit = True)\n",
    "\n",
    "dfs = {}\n",
    "\n",
    "for i in tqdm(range(loop)) :\n",
    "    start = i * 10\n",
    "    end = (i+1) * 10\n",
    "    sql = f\"\"\"select * from tmp.tmp_aws_itm_ord_2111 where rnum > {start} and rnum <= {end}\"\"\"\n",
    "    dfs.append(pd.read_sql(sql, conn))"
   ]
  },
  {
   "cell_type": "code",
   "execution_count": null,
   "metadata": {},
   "outputs": [],
   "source": [
    "# 리스트 안 데이터 프레임 모두 합쳐 최종 데이터 프레임 생성\n",
    "fnl = pd.concat(dfs, axis = 1, ignore_index = True)\n",
    "fnl.head()"
   ]
  }
 ],
 "metadata": {
  "kernelspec": {
   "display_name": "Python 3",
   "language": "python",
   "name": "python3"
  },
  "language_info": {
   "codemirror_mode": {
    "name": "ipython",
    "version": 3
   },
   "file_extension": ".py",
   "mimetype": "text/x-python",
   "name": "python",
   "nbconvert_exporter": "python",
   "pygments_lexer": "ipython3",
   "version": "3.6.8"
  }
 },
 "nbformat": 4,
 "nbformat_minor": 2
}
